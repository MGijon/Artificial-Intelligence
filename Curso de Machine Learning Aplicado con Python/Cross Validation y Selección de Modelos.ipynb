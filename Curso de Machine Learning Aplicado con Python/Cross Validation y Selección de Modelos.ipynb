{
 "cells": [
  {
   "cell_type": "markdown",
   "metadata": {},
   "source": [
    "Ya sebemos que:\n",
    "- Necesitamos separ de manera aleatoria los datos en dos conjuntos, uno para el entrenamiento y otro para el test.\n",
    "- De entre las diversas técnicas existentes para evaluar la performance elegiremos la que más nos convenga en fucnión del algoritmo que estemos utilizando y el tipo de problema al que nos enfrentemos.\n",
    "- Usamos métodos de visualización para apollarnos en cada caso y reducir el número de potenciales errores.\n",
    "\n",
    "Sin embargo, el hecho de haber elegido los datos de manera aleatoria tiene diversos puntos flacos:\n",
    "- El resultado depende en gran medida de cuáles son los datos que hemos escogidos.\n",
    "- Esto puede dar lugar tanto a modelos excelentes como a otros pésimos."
   ]
  },
  {
   "cell_type": "code",
   "execution_count": 16,
   "metadata": {},
   "outputs": [],
   "source": [
    "import numpy as np\n",
    "import pandas as pd\n",
    "import matplotlib.pyplot as plt\n",
    "import seaborn as sns"
   ]
  },
  {
   "cell_type": "code",
   "execution_count": 9,
   "metadata": {},
   "outputs": [],
   "source": [
    "X = pd.read_csv('Data/intermediate_resutls.csv')\n",
    "X = X.drop(X.columns[0], axis = 1)\n",
    "X = X.drop('gross', axis = 1)\n",
    "y = X['worldwide_gross']\n",
    "X = X.drop('worldwide_gross', axis = 1)"
   ]
  },
  {
   "cell_type": "code",
   "execution_count": 15,
   "metadata": {},
   "outputs": [
    {
     "name": "stdout",
     "output_type": "stream",
     "text": [
      "   production_budget    title_year  aspect_ratio      duration  \\\n",
      "0        425000000.0  2.009000e+03  1.780000e+00  1.780000e+02   \n",
      "1        306000000.0  5.911656e+08  5.911656e+08  5.911656e+08   \n",
      "\n",
      "   cast_total_facebook_likes        budget  imdb_score  \n",
      "0                     4834.0  2.370000e+08         7.9  \n",
      "1                      143.0  5.911656e+08         7.1  \n",
      "====\n",
      "0    2.783919e+09\n",
      "1    2.058662e+09\n",
      "Name: worldwide_gross, dtype: float64\n"
     ]
    }
   ],
   "source": [
    "print(X.head(2))\n",
    "print('====')\n",
    "print(y.head(2))"
   ]
  },
  {
   "cell_type": "code",
   "execution_count": 17,
   "metadata": {},
   "outputs": [],
   "source": [
    "from sklearn.model_selection import train_test_split"
   ]
  },
  {
   "cell_type": "code",
   "execution_count": 20,
   "metadata": {},
   "outputs": [],
   "source": [
    "X_train, X_test, y_train, y_test = train_test_split(X, y, random_state=1)"
   ]
  },
  {
   "cell_type": "code",
   "execution_count": 21,
   "metadata": {},
   "outputs": [
    {
     "data": {
      "text/html": [
       "<div>\n",
       "<style scoped>\n",
       "    .dataframe tbody tr th:only-of-type {\n",
       "        vertical-align: middle;\n",
       "    }\n",
       "\n",
       "    .dataframe tbody tr th {\n",
       "        vertical-align: top;\n",
       "    }\n",
       "\n",
       "    .dataframe thead th {\n",
       "        text-align: right;\n",
       "    }\n",
       "</style>\n",
       "<table border=\"1\" class=\"dataframe\">\n",
       "  <thead>\n",
       "    <tr style=\"text-align: right;\">\n",
       "      <th></th>\n",
       "      <th>production_budget</th>\n",
       "      <th>title_year</th>\n",
       "      <th>aspect_ratio</th>\n",
       "      <th>duration</th>\n",
       "      <th>cast_total_facebook_likes</th>\n",
       "      <th>budget</th>\n",
       "      <th>imdb_score</th>\n",
       "    </tr>\n",
       "  </thead>\n",
       "  <tbody>\n",
       "    <tr>\n",
       "      <th>1686</th>\n",
       "      <td>25100000.0</td>\n",
       "      <td>2008.0</td>\n",
       "      <td>2.35</td>\n",
       "      <td>129.0</td>\n",
       "      <td>4264.0</td>\n",
       "      <td>25100000.0</td>\n",
       "      <td>6.4</td>\n",
       "    </tr>\n",
       "    <tr>\n",
       "      <th>1504</th>\n",
       "      <td>30000000.0</td>\n",
       "      <td>2001.0</td>\n",
       "      <td>1.85</td>\n",
       "      <td>94.0</td>\n",
       "      <td>3664.0</td>\n",
       "      <td>45000000.0</td>\n",
       "      <td>5.5</td>\n",
       "    </tr>\n",
       "    <tr>\n",
       "      <th>3744</th>\n",
       "      <td>2000000.0</td>\n",
       "      <td>2005.0</td>\n",
       "      <td>1.85</td>\n",
       "      <td>91.0</td>\n",
       "      <td>1349.0</td>\n",
       "      <td>2000000.0</td>\n",
       "      <td>7.4</td>\n",
       "    </tr>\n",
       "    <tr>\n",
       "      <th>4129</th>\n",
       "      <td>500000.0</td>\n",
       "      <td>2003.0</td>\n",
       "      <td>1.85</td>\n",
       "      <td>89.0</td>\n",
       "      <td>24419.0</td>\n",
       "      <td>500000.0</td>\n",
       "      <td>7.7</td>\n",
       "    </tr>\n",
       "    <tr>\n",
       "      <th>551</th>\n",
       "      <td>70000000.0</td>\n",
       "      <td>2013.0</td>\n",
       "      <td>21072246.95</td>\n",
       "      <td>88.0</td>\n",
       "      <td>6946.0</td>\n",
       "      <td>70000000.0</td>\n",
       "      <td>5.6</td>\n",
       "    </tr>\n",
       "  </tbody>\n",
       "</table>\n",
       "</div>"
      ],
      "text/plain": [
       "      production_budget  title_year  aspect_ratio  duration  \\\n",
       "1686         25100000.0      2008.0          2.35     129.0   \n",
       "1504         30000000.0      2001.0          1.85      94.0   \n",
       "3744          2000000.0      2005.0          1.85      91.0   \n",
       "4129           500000.0      2003.0          1.85      89.0   \n",
       "551          70000000.0      2013.0   21072246.95      88.0   \n",
       "\n",
       "      cast_total_facebook_likes      budget  imdb_score  \n",
       "1686                     4264.0  25100000.0         6.4  \n",
       "1504                     3664.0  45000000.0         5.5  \n",
       "3744                     1349.0   2000000.0         7.4  \n",
       "4129                    24419.0    500000.0         7.7  \n",
       "551                      6946.0  70000000.0         5.6  "
      ]
     },
     "execution_count": 21,
     "metadata": {},
     "output_type": "execute_result"
    }
   ],
   "source": [
    "X_train.head()"
   ]
  },
  {
   "cell_type": "code",
   "execution_count": 23,
   "metadata": {},
   "outputs": [
    {
     "name": "stderr",
     "output_type": "stream",
     "text": [
      "/Users/manuelgijon/anaconda3/lib/python3.6/site-packages/sklearn/linear_model/coordinate_descent.py:475: ConvergenceWarning: Objective did not converge. You might want to increase the number of iterations. Duality gap: 1.5004453763130778e+18, tolerance: 1.1952978864571476e+16\n",
      "  positive)\n",
      "/Users/manuelgijon/anaconda3/lib/python3.6/site-packages/sklearn/linear_model/coordinate_descent.py:475: ConvergenceWarning: Objective did not converge. You might want to increase the number of iterations. Duality gap: 2.254204137078919e+19, tolerance: 1.1895953394072692e+16\n",
      "  positive)\n",
      "/Users/manuelgijon/anaconda3/lib/python3.6/site-packages/sklearn/linear_model/coordinate_descent.py:475: ConvergenceWarning: Objective did not converge. You might want to increase the number of iterations. Duality gap: 2.942812249762812e+18, tolerance: 1.1829100374388144e+16\n",
      "  positive)\n"
     ]
    },
    {
     "data": {
      "text/plain": [
       "array([ 0.19325935, -0.02482913,  0.02227062, -0.08645338, -2.91069822])"
      ]
     },
     "execution_count": 23,
     "metadata": {},
     "output_type": "execute_result"
    }
   ],
   "source": [
    "from sklearn.model_selection import cross_val_score\n",
    "from sklearn.linear_model import Lasso\n",
    "\n",
    "scores = cross_val_score(Lasso(), X, y, cv=5, scoring='r2')\n",
    "scores"
   ]
  },
  {
   "cell_type": "code",
   "execution_count": 25,
   "metadata": {},
   "outputs": [
    {
     "data": {
      "text/plain": [
       "-0.5612901522444439"
      ]
     },
     "execution_count": 25,
     "metadata": {},
     "output_type": "execute_result"
    }
   ],
   "source": [
    "scores.mean()"
   ]
  },
  {
   "cell_type": "code",
   "execution_count": 26,
   "metadata": {},
   "outputs": [],
   "source": [
    "# queda pendiente ajustar esto"
   ]
  },
  {
   "cell_type": "markdown",
   "metadata": {},
   "source": [
    "## Selección de modelos"
   ]
  },
  {
   "cell_type": "code",
   "execution_count": 27,
   "metadata": {},
   "outputs": [
    {
     "name": "stdout",
     "output_type": "stream",
     "text": [
      "Requirement already up-to-date: scikit-learn in /Users/manuelgijon/anaconda3/lib/python3.6/site-packages (0.21.3)\r\n",
      "Requirement already satisfied, skipping upgrade: scipy>=0.17.0 in /Users/manuelgijon/anaconda3/lib/python3.6/site-packages (from scikit-learn) (1.1.0)\r\n",
      "Requirement already satisfied, skipping upgrade: numpy>=1.11.0 in /Users/manuelgijon/anaconda3/lib/python3.6/site-packages (from scikit-learn) (1.14.3)\r\n",
      "Requirement already satisfied, skipping upgrade: joblib>=0.11 in /Users/manuelgijon/anaconda3/lib/python3.6/site-packages (from scikit-learn) (0.14.0)\r\n"
     ]
    }
   ],
   "source": [
    "!pip install --upgrade scikit-learn"
   ]
  },
  {
   "cell_type": "code",
   "execution_count": 36,
   "metadata": {},
   "outputs": [
    {
     "name": "stdout",
     "output_type": "stream",
     "text": [
      "Train score (mean) = 0.4461754457969094\n",
      "Test score (mean) = -0.2847431221575171\n"
     ]
    },
    {
     "name": "stderr",
     "output_type": "stream",
     "text": [
      "/Users/manuelgijon/anaconda3/lib/python3.6/site-packages/sklearn/model_selection/_split.py:1978: FutureWarning: The default value of cv will change from 3 to 5 in version 0.22. Specify it explicitly to silence this warning.\n",
      "  warnings.warn(CV_WARNING, FutureWarning)\n",
      "/Users/manuelgijon/anaconda3/lib/python3.6/site-packages/sklearn/linear_model/coordinate_descent.py:475: ConvergenceWarning: Objective did not converge. You might want to increase the number of iterations. Duality gap: 2.172840431034871e+19, tolerance: 1.1475858304105724e+16\n",
      "  positive)\n",
      "/Users/manuelgijon/anaconda3/lib/python3.6/site-packages/sklearn/linear_model/coordinate_descent.py:475: ConvergenceWarning: Objective did not converge. You might want to increase the number of iterations. Duality gap: 4.226532078422262e+17, tolerance: 1.11847023927224e+16\n",
      "  positive)\n"
     ]
    }
   ],
   "source": [
    "from sklearn.model_selection import cross_validate\n",
    "\n",
    "results = cross_validate(Lasso(), X, y, return_train_score=True);\n",
    "\n",
    "#print(results)\n",
    "\n",
    "train_scores = results['train_score']\n",
    "test_scores = results['test_score']\n",
    "\n",
    "print('Train score (mean) = ' + str(np.mean(train_scores)))\n",
    "print('Test score (mean) = ' + str(np.mean(test_scores)))"
   ]
  },
  {
   "cell_type": "code",
   "execution_count": 40,
   "metadata": {},
   "outputs": [
    {
     "name": "stdout",
     "output_type": "stream",
     "text": [
      "fit_time [0.00566792 0.03241873 0.0213809 ]\n",
      "score_time [0.00111985 0.00136709 0.00107694]\n",
      "test_score [ 0.43948028  0.03358624 -1.32729588]\n",
      "train_score [0.14719611 0.62115573 0.5701745 ]\n"
     ]
    }
   ],
   "source": [
    "for element in results:\n",
    "    print(element, results[element])"
   ]
  },
  {
   "cell_type": "markdown",
   "metadata": {},
   "source": [
    "### Validation Curves & Learning Curves"
   ]
  },
  {
   "cell_type": "code",
   "execution_count": 42,
   "metadata": {},
   "outputs": [
    {
     "data": {
      "text/plain": [
       "{'fit_time': array([0.00532603, 0.00409007, 0.00271702, 0.00228667, 0.00255704]),\n",
       " 'score_time': array([0.00367689, 0.00406504, 0.00437999, 0.00557017, 0.00315499]),\n",
       " 'test_score': array([-0.38646662, -0.59526513, -0.42395296, -1.91978682, -5.55979343]),\n",
       " 'train_score': array([0.36520499, 0.68490044, 0.66584916, 0.65410196, 0.63531729])}"
      ]
     },
     "execution_count": 42,
     "metadata": {},
     "output_type": "execute_result"
    }
   ],
   "source": [
    "from sklearn.neighbors import KNeighborsRegressor\n",
    "\n",
    "cross_validate(KNeighborsRegressor(), X, y, cv=5, return_train_score=True)"
   ]
  },
  {
   "cell_type": "code",
   "execution_count": 43,
   "metadata": {},
   "outputs": [
    {
     "data": {
      "text/plain": [
       "{'fit_time': array([0.00439286, 0.00328302, 0.00563002, 0.00222468, 0.00225401]),\n",
       " 'score_time': array([0.00459385, 0.00673723, 0.0104239 , 0.00511527, 0.00314403]),\n",
       " 'test_score': array([-0.48127625, -0.60818359, -0.31540959, -1.41107625, -2.13244097]),\n",
       " 'train_score': array([0.27749176, 0.62719065, 0.60978922, 0.59520183, 0.57499152])}"
      ]
     },
     "execution_count": 43,
     "metadata": {},
     "output_type": "execute_result"
    }
   ],
   "source": [
    "n = 10\n",
    "cross_validate(KNeighborsRegressor(n_neighbors=10), X, y, cv=5, return_train_score=True)"
   ]
  },
  {
   "cell_type": "code",
   "execution_count": 46,
   "metadata": {},
   "outputs": [],
   "source": [
    "from sklearn.model_selection import validation_curve\n",
    "\n",
    "n = np.arange(2, 50, 2)\n",
    "train_score, test_score = validation_curve(KNeighborsRegressor(), \n",
    "                                          X, \n",
    "                                          y,\n",
    "                                          param_name='n_neighbors',\n",
    "                                          param_range=n,\n",
    "                                          cv=5)"
   ]
  },
  {
   "cell_type": "code",
   "execution_count": 48,
   "metadata": {},
   "outputs": [
    {
     "data": {
      "text/plain": [
       "array([0.76479926, 0.63487854, 0.57972409, 0.54955316, 0.536933  ,\n",
       "       0.52947935, 0.52662469, 0.51978586, 0.51082953, 0.50401007,\n",
       "       0.49867563, 0.49427279, 0.48903746, 0.48642465, 0.48583048,\n",
       "       0.4844576 , 0.4826532 , 0.48131806, 0.47788485, 0.47729089,\n",
       "       0.47591767, 0.47545396, 0.47411522, 0.47249581])"
      ]
     },
     "execution_count": 48,
     "metadata": {},
     "output_type": "execute_result"
    }
   ],
   "source": [
    "np.mean(train_score, axis = 1)"
   ]
  },
  {
   "cell_type": "code",
   "execution_count": 49,
   "metadata": {},
   "outputs": [
    {
     "data": {
      "text/plain": [
       "array([-3.09057726, -2.13614377, -1.49234523, -1.15281612, -0.98967733,\n",
       "       -0.91890384, -0.88710164, -0.87548692, -0.86585546, -0.86494579,\n",
       "       -0.88415072, -0.90508286, -0.89400618, -0.87232696, -0.84409747,\n",
       "       -0.82776532, -0.80791381, -0.78553823, -0.76721448, -0.76625483,\n",
       "       -0.76525356, -0.76699344, -0.74689888, -0.73693721])"
      ]
     },
     "execution_count": 49,
     "metadata": {},
     "output_type": "execute_result"
    }
   ],
   "source": [
    "np.mean(test_score, axis = 1)"
   ]
  },
  {
   "cell_type": "code",
   "execution_count": 53,
   "metadata": {},
   "outputs": [
    {
     "data": {
      "image/png": "[encoded data removed]",
      "text/plain": [
       "<Figure size 432x288 with 1 Axes>"
      ]
     },
     "metadata": {},
     "output_type": "display_data"
    }
   ],
   "source": [
    "plt.plot(np.mean(train_score, axis = 1))\n",
    "plt.plot(np.mean(test_score, axis = 1))\n",
    "plt.xticks(np.arange(24)); # cantidad de vecinos que he tomado, len(n)"
   ]
  },
  {
   "cell_type": "code",
   "execution_count": 54,
   "metadata": {},
   "outputs": [],
   "source": [
    "# Learning Curves\n",
    "from sklearn.model_selection import learning_curve\n",
    "\n",
    "lc = learning_curve(KNeighborsRegressor(n_neighbors=6), \n",
    "                    X, \n",
    "                    y, \n",
    "                    cv = 5)\n",
    "samples, train, test = lc[0], lc[1], lc[2]"
   ]
  },
  {
   "cell_type": "code",
   "execution_count": 55,
   "metadata": {},
   "outputs": [
    {
     "data": {
      "text/plain": [
       "[<matplotlib.lines.Line2D at 0x1089570f0>]"
      ]
     },
     "execution_count": 55,
     "metadata": {},
     "output_type": "execute_result"
    },
    {
     "data": {
      "image/png": "[encoded data removed]",
      "text/plain": [
       "<Figure size 432x288 with 1 Axes>"
      ]
     },
     "metadata": {},
     "output_type": "display_data"
    }
   ],
   "source": [
    "plt.plot(samples, np.mean(train, axis = 1))\n",
    "plt.plot(samples, np.mean(test, axis = 1))"
   ]
  },
  {
   "cell_type": "code",
   "execution_count": 58,
   "metadata": {},
   "outputs": [
    {
     "data": {
      "text/plain": [
       "[<matplotlib.lines.Line2D at 0x108aa1470>]"
      ]
     },
     "execution_count": 58,
     "metadata": {},
     "output_type": "execute_result"
    },
    {
     "data": {
      "image/png": "[encoded data removed]",
      "text/plain": [
       "<Figure size 432x288 with 1 Axes>"
      ]
     },
     "metadata": {},
     "output_type": "display_data"
    }
   ],
   "source": [
    "plt.plot(samples[1:], np.mean(train, axis = 1)[1:])\n",
    "plt.plot(samples[1:], np.mean(test, axis = 1)[1:])"
   ]
  },
  {
   "cell_type": "code",
   "execution_count": null,
   "metadata": {},
   "outputs": [],
   "source": []
  }
 ],
 "metadata": {
  "kernelspec": {
   "display_name": "Python 3",
   "language": "python",
   "name": "python3"
  },
  "language_info": {
   "codemirror_mode": {
    "name": "ipython",
    "version": 3
   },
   "file_extension": ".py",
   "mimetype": "text/x-python",
   "name": "python",
   "nbconvert_exporter": "python",
   "pygments_lexer": "ipython3",
   "version": "3.6.5"
  }
 },
 "nbformat": 4,
 "nbformat_minor": 2
}
