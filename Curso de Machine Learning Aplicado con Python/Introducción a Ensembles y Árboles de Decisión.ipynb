{
 "cells": [
  {
   "cell_type": "code",
   "execution_count": 3,
   "metadata": {},
   "outputs": [],
   "source": [
    "import numpy as np\n",
    "import pandas as pd\n",
    "import matplotlib.pyplot as plt\n",
    "%matplotlib inline\n",
    "from sklearn.model_selection import train_test_split"
   ]
  },
  {
   "cell_type": "markdown",
   "metadata": {},
   "source": [
    "## Decision Trees"
   ]
  },
  {
   "cell_type": "code",
   "execution_count": 8,
   "metadata": {},
   "outputs": [],
   "source": [
    "from sklearn.tree import DecisionTreeRegressor"
   ]
  },
  {
   "cell_type": "code",
   "execution_count": 9,
   "metadata": {},
   "outputs": [],
   "source": [
    "X = pd.read_csv('Data/intermediate_resutls.csv')\n",
    "X = X.drop(X.columns[0], axis = 1)\n",
    "X = X.drop('gross', axis = 1)\n",
    "y = X['worldwide_gross']\n",
    "X = X.drop('worldwide_gross', axis = 1)\n",
    "\n",
    "X_train, X_test, y_train, y_test = train_test_split(X, y, random_state=1)"
   ]
  },
  {
   "cell_type": "code",
   "execution_count": 10,
   "metadata": {},
   "outputs": [],
   "source": [
    "model = DecisionTreeRegressor(max_depth = 2)"
   ]
  },
  {
   "cell_type": "code",
   "execution_count": 11,
   "metadata": {},
   "outputs": [
    {
     "data": {
      "text/plain": [
       "DecisionTreeRegressor(criterion='mse', max_depth=2, max_features=None,\n",
       "                      max_leaf_nodes=None, min_impurity_decrease=0.0,\n",
       "                      min_impurity_split=None, min_samples_leaf=1,\n",
       "                      min_samples_split=2, min_weight_fraction_leaf=0.0,\n",
       "                      presort=False, random_state=None, splitter='best')"
      ]
     },
     "execution_count": 11,
     "metadata": {},
     "output_type": "execute_result"
    }
   ],
   "source": [
    "model.fit(X_train, y_train)"
   ]
  },
  {
   "cell_type": "code",
   "execution_count": null,
   "metadata": {},
   "outputs": [
    {
     "name": "stdout",
     "output_type": "stream",
     "text": [
      "Solving environment: done\n",
      "\n",
      "\n",
      "==> WARNING: A newer version of conda exists. <==\n",
      "  current version: 4.5.11\n",
      "  latest version: 4.7.12\n",
      "\n",
      "Please update conda by running\n",
      "\n",
      "    $ conda update -n base -c defaults conda\n",
      "\n",
      "\n",
      "\n",
      "## Package Plan ##\n",
      "\n",
      "  environment location: /Users/manuelgijon/anaconda3\n",
      "\n",
      "  added / updated specs: \n",
      "    - python-graphviz\n",
      "\n",
      "\n",
      "The following packages will be downloaded:\n",
      "\n",
      "    package                    |            build\n",
      "    ---------------------------|-----------------\n",
      "    fontconfig-2.12.6          |       h9850fc5_0         250 KB\n",
      "    conda-4.7.12               |           py36_0         3.0 MB  conda-forge\n",
      "    graphite2-1.3.13           |    h2098e52_1000          84 KB  conda-forge\n",
      "    conda-package-handling-1.6.0|   py36h01d97ff_0         1.4 MB  conda-forge\n",
      "    python-graphviz-0.13       |             py_0          18 KB  conda-forge\n",
      "    cairo-1.14.12              |       he60d9cb_2         1.2 MB\n",
      "    graphviz-2.40.1            |       h0a44026_0         6.7 MB\n",
      "    pixman-0.38.0              |    h01d97ff_1003         611 KB  conda-forge\n",
      "    harfbuzz-1.7.6             |       h171471c_1         665 KB\n",
      "    certifi-2018.4.16          |           py36_0         142 KB  conda-forge\n",
      "    tqdm-4.36.1                |             py_0          43 KB  conda-forge\n",
      "    pango-1.41.0               |       h3bae10e_0         533 KB\n",
      "    ------------------------------------------------------------\n",
      "                                           Total:        14.6 MB\n",
      "\n",
      "The following NEW packages will be INSTALLED:\n",
      "\n",
      "    cairo:                  1.14.12-he60d9cb_2              \n",
      "    conda-package-handling: 1.6.0-py36h01d97ff_0 conda-forge\n",
      "    fontconfig:             2.12.6-h9850fc5_0               \n",
      "    graphite2:              1.3.13-h2098e52_1000 conda-forge\n",
      "    graphviz:               2.40.1-h0a44026_0               \n",
      "    harfbuzz:               1.7.6-h171471c_1                \n",
      "    pango:                  1.41.0-h3bae10e_0               \n",
      "    pixman:                 0.38.0-h01d97ff_1003 conda-forge\n",
      "    python-graphviz:        0.13-py_0            conda-forge\n",
      "    tqdm:                   4.36.1-py_0          conda-forge\n",
      "\n",
      "The following packages will be UPDATED:\n",
      "\n",
      "    certifi:                2018.4.16-py36_0                 --> 2018.4.16-py36_0 conda-forge\n",
      "    conda:                  4.5.11-py36_0                    --> 4.7.12-py36_0    conda-forge\n",
      "\n",
      "Proceed ([y]/n)? "
     ]
    }
   ],
   "source": [
    "!conda install -c conda-forge python-graphviz"
   ]
  },
  {
   "cell_type": "code",
   "execution_count": null,
   "metadata": {},
   "outputs": [],
   "source": [
    "!y"
   ]
  },
  {
   "cell_type": "code",
   "execution_count": null,
   "metadata": {},
   "outputs": [],
   "source": [
    "import graphviz"
   ]
  },
  {
   "cell_type": "code",
   "execution_count": null,
   "metadata": {},
   "outputs": [],
   "source": [
    "from sklearn.tree import export_graphviz\n",
    "\n",
    "treedot = export_graphviz(model,\n",
    "                          out_file=None,   # si quiero guardar el modelo exportado en un archivo\n",
    "                          feature=X.columns)"
   ]
  },
  {
   "cell_type": "code",
   "execution_count": null,
   "metadata": {},
   "outputs": [],
   "source": [
    "graphviz.Ssource(treedot)"
   ]
  }
 ],
 "metadata": {
  "kernelspec": {
   "display_name": "Python 3",
   "language": "python",
   "name": "python3"
  },
  "language_info": {
   "codemirror_mode": {
    "name": "ipython",
    "version": 3
   },
   "file_extension": ".py",
   "mimetype": "text/x-python",
   "name": "python",
   "nbconvert_exporter": "python",
   "pygments_lexer": "ipython3",
   "version": "3.6.5"
  }
 },
 "nbformat": 4,
 "nbformat_minor": 2
}
